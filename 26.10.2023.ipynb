{
 "cells": [
  {
   "cell_type": "markdown",
   "source": [
    "## OBJEKTINIS PROGRAMAVIMAS\n",
    "* konstruktorius\n",
    "# OBJEKTINIS PROGRAMAVIMAS\n",
    "### OBJEKTINIS PROGRAMAVIMAS\n",
    "#### OBJEKTINIS PROGRAMAVIMAS\n",
    "\n"
   ],
   "metadata": {
    "collapsed": false
   },
   "id": "7d736330976936b"
  },
  {
   "cell_type": "markdown",
   "source": [
    "# automiblis yra objektas ir yra jo savybes, modelis, marke ir t.t. rasom konstrukturijoj, nes ti pradines reiksmes, ka turi savyje. yra metodu kurimai."
   ],
   "metadata": {
    "collapsed": false
   },
   "id": "7be61ad99e164fc1"
  },
  {
   "cell_type": "code",
   "execution_count": 21,
   "outputs": [
    {
     "name": "stdout",
     "output_type": "stream",
     "text": [
      "Automobilis: Audi\n",
      "Autobomobilio_marke: A8\n",
      "Automobilio_pagaminimo_metai: 2021\n",
      "\n",
      "Vaziuojama 150km. Bendra rida: 150km\n",
      "\n",
      "Automobilis: Subaru\n",
      "Autobomobilio_marke: Outback\n",
      "Automobilio_pagaminimo_metai: 2015\n",
      "\n",
      "Vaziuojama 400km. Bendra rida: 400km\n"
     ]
    }
   ],
   "source": [
    "#Objektinis progravavimas:\n",
    "\n",
    "#konstruktorius ir apacioje jo savybes:\n",
    "\n",
    "class Automobilis: \n",
    "    def __init__(self, marke, modelis, metai, variklio_turis, kuro_tipas):\n",
    "        self.marke = marke\n",
    "        self.modelis = modelis\n",
    "        self.metai = metai \n",
    "        self.variklio_turis = variklio_turis\n",
    "        self.kuro_tipas = kuro_tipas\n",
    "        self.rida = 0\n",
    "        \n",
    "    #metodas def automobilio_pavadnimas(self):\n",
    "    \n",
    "    def automobilio_pavadinimas(self):\n",
    "        return f\"Automobilis: {self.marke}\\nAutobomobilio_marke: {self.modelis}\\nAutomobilio_pagaminimo_metai: {self.metai}\\n\"\n",
    "    \n",
    "    def vaziuoti(self, km):\n",
    "        self.rida += km\n",
    "        return f\"Vaziuojama {km}km. Bendra rida: {self.rida}km\"\n",
    "        \n",
    "#cia yra objektas\n",
    "auto1 = Automobilis(\"Audi\", \"A8\", 2021, 3.0, \"Benzinas\") \n",
    "auto2 = Automobilis(\"Subaru\", \"Outback\", 2015, 2.5, \"Dyzelinas\")\n",
    "print(auto1.automobilio_pavadinimas())\n",
    "print(auto1.vaziuoti(150))\n",
    "print()\n",
    "print(auto2.automobilio_pavadinimas())\n",
    "print(auto2.vaziuoti(400))"
   ],
   "metadata": {
    "collapsed": false,
    "ExecuteTime": {
     "end_time": "2023-10-27T06:40:22.272165500Z",
     "start_time": "2023-10-27T06:40:22.244361600Z"
    }
   },
   "id": "7f243ac139f471f6"
  },
  {
   "cell_type": "markdown",
   "source": [
    "# Reikia sukurti klase pavadinimu gyvunas"
   ],
   "metadata": {
    "collapsed": false
   },
   "id": "f65b1cd2491429b0"
  },
  {
   "cell_type": "code",
   "execution_count": 40,
   "outputs": [
    {
     "name": "stdout",
     "output_type": "stream",
     "text": [
      "Gyvunas Liutas\n",
      "Svoris 125 kg\n",
      "Amzius 12 metu\n",
      "Vardas Algimantas\n",
      "Algimantas nevalgo\n",
      "As esu Liutas ir mano vardas yra Algimantas\n"
     ]
    }
   ],
   "source": [
    "class gyvunas:   \n",
    "    def __init__(self, rusis, svoris, amzius, vardas): \n",
    "        self.rusis = rusis\n",
    "        self.svoris = svoris\n",
    "        self.amzius = amzius\n",
    "        self.vardas = vardas\n",
    "        \n",
    "        #dabar rasysime objekto metodus\n",
    "    def gyvuno_aprasymas(self):\n",
    "        return f\"Gyvunas {self.rusis}\\nSvoris {self.svoris} kg\\nAmzius {self.amzius} metu\\nVardas {self.vardas}\"\n",
    "    \n",
    "    def valgyti(self):\n",
    "        return f\"{self.vardas} nevalgo\"\n",
    "    \n",
    "    def prisistatymas(self):\n",
    "        return f\"As esu {self.rusis} ir mano vardas yra {self.vardas}\"\n",
    "    \n",
    "kate = gyvunas(\"Liutas\", 125, 12, \"Algimantas\")\n",
    "print(kate.gyvuno_aprasymas())\n",
    "print(kate.valgyti())\n",
    "print(kate.prisistatymas())"
   ],
   "metadata": {
    "collapsed": false,
    "ExecuteTime": {
     "end_time": "2023-10-27T07:22:39.761082900Z",
     "start_time": "2023-10-27T07:22:39.732415200Z"
    }
   },
   "id": "14d59af18240cbbe"
  },
  {
   "cell_type": "markdown",
   "source": [
    "# Sukuriam ToDo list'a\n"
   ],
   "metadata": {
    "collapsed": false
   },
   "id": "341b395f92dc023"
  },
  {
   "cell_type": "code",
   "execution_count": null,
   "outputs": [],
   "source": [
    "class Uzduotis:\n",
    "    def __init__(self, pavadinimas, aprasymas):\n",
    "        self.pavadinimas = pavadinimas\n",
    "        self.aprasymas = aprasymas\n",
    "        self.atlikta = False\n",
    "\n",
    "    def atlikimas(self):\n",
    "        self.atlikta = True\n",
    "        print(f\"Uzduotis '{self.pavadinimas}' buvo atlikta\")\n",
    "\n",
    "    def info(self):\n",
    "        return f\" Pavadinimas: {self.pavadinimas}\\n Aprasymas:{self.aprasymas}\"\n",
    "\n",
    "\n",
    "class TodoSarasas:\n",
    "    def __init__(self):\n",
    "        self.uzduociu_sarasas = []\n",
    "\n",
    "    def prideti_uzduoti(self, pavadinimas, aprasymas):\n",
    "        uzduotis = Uzduotis(pavadinimas, aprasymas)\n",
    "        self.uzduociu_sarasas.append(uzduotis)\n",
    "\n",
    "    def visos_uzduotys(self):\n",
    "        if not self.uzduociu_sarasas:\n",
    "            print(\"Uzduociu sarasas yra tuscias\")\n",
    "        for uzduotis in self.uzduociu_sarasas:\n",
    "            print(uzduotis.info())\n",
    "\n",
    "    def pazymeti_kaip_atlikta(self, pavadinimas):\n",
    "        for uzduotis in self.uzduociu_sarasas:\n",
    "            if uzduotis.pavadinimas == pavadinimas:\n",
    "                uzduotis.atlikimas()\n",
    "                return\n",
    "        print(f\"Uzduotis pavadinimu: '{pavadinimas}' nerasta\")\n",
    "\n",
    "todo_sarasas = TodoSarasas()\n",
    "\n",
    "while True:\n",
    "    print(\"\\nPasirinkite veiksma:\")\n",
    "    print(\"1. Prideti uzduoti\")\n",
    "    print(\"2. Perziureti uzduotis\")\n",
    "    print(\"3. Pazymeti uzduoti kaip atlikta\")\n",
    "    print(\"4. Iseiti is uzduociu saraso\")\n",
    "    pasirinkimas = input(\"Prasome pasirinkti veiksma_>\")\n",
    "\n",
    "    if pasirinkimas == \"1\":\n",
    "        pavadinimas = input(\"Iveskite uzduoties pavadinima_>\")\n",
    "        aprasymas = input(\"Iveskite uzduoties aprasyma_>\")\n",
    "        todo_sarasas.prideti_uzduoti(pavadinimas, aprasymas)\n",
    "        print(\"Uzduotis prideta sekmingai!\")\n",
    "    elif pasirinkimas == \"2\":\n",
    "        todo_sarasas.visos_uzduotys()\n",
    "    elif pasirinkimas == \"3\":\n",
    "        pavadinimas = input(\"Iveskite uzduoties pavadinima, kuria norite pazymeti kaip atlikta_>\")\n",
    "        todo_sarasas.pazymeti_kaip_atlikta(pavadinimas)\n",
    "    elif pasirinkimas == \"4\":\n",
    "        print(\"Iseinama...\")\n",
    "        break\n",
    "    else:\n",
    "        print(\"Neteisingas pasirinkimas! Prasome bandyti dar karta!\")"
   ],
   "metadata": {
    "collapsed": false
   },
   "id": "934b2d4ba4ed5f6f"
  },
  {
   "cell_type": "markdown",
   "source": [
    "# sukurti banko saskaita is kurios galima ideti ir isimti pinigus. inesti, issimti, likucio informacija"
   ],
   "metadata": {
    "collapsed": false
   },
   "id": "cbea95304ba927cb"
  },
  {
   "cell_type": "code",
   "execution_count": 67,
   "outputs": [
    {
     "name": "stdout",
     "output_type": "stream",
     "text": [
      "Klaida, jusu likutis nepakankamas\n",
      " Jonas kliento saskaitos likutis yra 400 EUR\n"
     ]
    }
   ],
   "source": [
    "class saskaita:  \n",
    "    def __init__(self, vardas, pavarde, pradinis_likutis = 0):\n",
    "        self.vardas = vardas\n",
    "        self.pavarde = pavarde\n",
    "        self.pradinis_likutis = pradinis_likutis\n",
    "    \n",
    "    def inesti_pinigus(self, suma):\n",
    "        if suma > 0:\n",
    "            self.pradinis_likutis += suma\n",
    "        else: \n",
    "            print(\"Klaida: negalima ideti neigiamos sumos\")\n",
    "    \n",
    "    def nusiimti_pinigu(self, suma):\n",
    "        if suma > 0:\n",
    "            if suma <= self.pradinis_likutis:\n",
    "                self.pradinis_likutis -= suma\n",
    "                print(f\"Jus sekmingai nusiemete {suma} EUR\")\n",
    "            else:\n",
    "                print(\"Klaida, jusu likutis nepakankamas\")\n",
    "        else:\n",
    "            print(\"Negalite nusiimti neigiamos sumos\")\n",
    "            \n",
    "    def saskaitos_likutis(self):\n",
    "        return f\" {self.vardas} kliento saskaitos likutis yra {self.pradinis_likutis} EUR\"\n",
    "    \n",
    "numeris_vienas = saskaita(\"Jonas\", \"Jonatis\")\n",
    "\n",
    "numeris_vienas.inesti_pinigus(400)\n",
    "numeris_vienas.nusiimti_pinigu(2000)\n",
    "print(numeris_vienas.saskaitos_likutis())\n",
    "    \n"
   ],
   "metadata": {
    "collapsed": false,
    "ExecuteTime": {
     "end_time": "2023-10-27T10:42:37.568404700Z",
     "start_time": "2023-10-27T10:42:37.543189100Z"
    }
   },
   "id": "f4a8c641d73a0442"
  },
  {
   "cell_type": "markdown",
   "source": [
    "Sukurkite Studentas klase kuri reprezentuoja individualų studentą, turintį savo vardą, pavardę, amžių, studento numerį ir pažymių sąrašą.\n",
    "Antroje klasėje StudentuValdymoSistema - tai klasė, skirta valdyti studentų sąrašą. Ji leidžia pridėti naujus studentus, gauti informaciją apie konkretų studentą pagal jo numerį ir išvesti visų studentų informaciją.\n",
    "\n",
    "Sukurkite metoda kuris isves studento vidurki;\n",
    "sukurkite metoda kad galetumete prideti studenta;\n",
    "Sukurkite metoda kuris grazins visa studento info;\n",
    "Sukurkite metoda kuris pasalintu studenta;"
   ],
   "metadata": {
    "collapsed": false
   },
   "id": "4a07fdafd69c608"
  },
  {
   "cell_type": "code",
   "execution_count": 72,
   "outputs": [
    {
     "name": "stdout",
     "output_type": "stream",
     "text": [
      "Studentas sekmingai pridetas\n"
     ]
    }
   ],
   "source": [
    "class Studentas:\n",
    "    def __init__(self, vardas, pavarde, amzius, studento_numeris, pazymiai = None):\n",
    "        self.vardas = vardas\n",
    "        self.pavarde = pavarde\n",
    "        self.amzius = amzius\n",
    "        self.studento_numeris = studento_numeris\n",
    "        self.pazymiai = pazymiai\n",
    "\n",
    "    def studento_vidurkis(self, pazymiu_sarasas):\n",
    "        \n",
    "\n",
    "class StudentuValdymoSistema:\n",
    "    def __init__(self):\n",
    "        self.studentu_sarasas = []\n",
    "    \n",
    "    def prideti_studenta(self, studentas):\n",
    "        self.studentu_sarasas.append(studentas)\n",
    "        print(\"Studentas sekmingai pridetas\")\n",
    "    \n",
    "    \n",
    "        \n",
    "        \n",
    "        \n",
    "studentu_sistema = StudentuValdymoSistema()\n",
    "studentas1 = Studentas(\"Jonas\", \"Jonaitis\", 23, 10298, [6,8,8])\n",
    "studentu_sistema.prideti_studenta(studentas1)\n",
    "        \n",
    "        "
   ],
   "metadata": {
    "collapsed": false,
    "ExecuteTime": {
     "end_time": "2023-10-27T11:26:07.732787900Z",
     "start_time": "2023-10-27T11:26:07.685091Z"
    }
   },
   "id": "bc5216435bd3779c"
  },
  {
   "cell_type": "code",
   "execution_count": null,
   "outputs": [],
   "source": [],
   "metadata": {
    "collapsed": false
   },
   "id": "7ea471cac63a680e"
  }
 ],
 "metadata": {
  "kernelspec": {
   "display_name": "Python 3",
   "language": "python",
   "name": "python3"
  },
  "language_info": {
   "codemirror_mode": {
    "name": "ipython",
    "version": 2
   },
   "file_extension": ".py",
   "mimetype": "text/x-python",
   "name": "python",
   "nbconvert_exporter": "python",
   "pygments_lexer": "ipython2",
   "version": "2.7.6"
  }
 },
 "nbformat": 4,
 "nbformat_minor": 5
}
